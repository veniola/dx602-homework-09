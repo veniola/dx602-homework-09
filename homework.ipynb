{
 "cells": [
  {
   "cell_type": "markdown",
   "metadata": {},
   "source": [
    "# DX 602 Week 9 Homework"
   ]
  },
  {
   "cell_type": "markdown",
   "metadata": {},
   "source": [
    "## Introduction\n",
    "\n",
    "In this homework, you will continue practicing use of the pandas library for more sophisticated analysis."
   ]
  },
  {
   "cell_type": "markdown",
   "metadata": {},
   "source": [
    "## Example Code\n",
    "\n",
    "You may find it helpful to refer to this GitHub repository of Jupyter notebooks for example code.\n",
    "\n",
    "* https://github.com/bu-cds-omds/dx602-examples\n",
    "\n",
    "Any calculations demonstrated in code examples or videos may be found in these notebooks, and you are allowed to copy this example code in your homework answers."
   ]
  },
  {
   "cell_type": "markdown",
   "metadata": {},
   "source": [
    "## Shared Imports\n",
    "\n",
    "Do not install or use any additional modules.\n",
    "Installing additional modules may result in an autograder failure resulting in zero points for some or all problems."
   ]
  },
  {
   "cell_type": "code",
   "execution_count": 53,
   "metadata": {},
   "outputs": [],
   "source": [
    "import math\n",
    "import sys"
   ]
  },
  {
   "cell_type": "code",
   "execution_count": 4,
   "metadata": {},
   "outputs": [],
   "source": [
    "import matplotlib.pyplot as plt\n",
    "import numpy as np\n",
    "import pandas as pd"
   ]
  },
  {
   "cell_type": "markdown",
   "metadata": {},
   "source": [
    "## Shared Data"
   ]
  },
  {
   "cell_type": "code",
   "execution_count": 5,
   "metadata": {},
   "outputs": [
    {
     "data": {
      "text/html": [
       "<div>\n",
       "<style scoped>\n",
       "    .dataframe tbody tr th:only-of-type {\n",
       "        vertical-align: middle;\n",
       "    }\n",
       "\n",
       "    .dataframe tbody tr th {\n",
       "        vertical-align: top;\n",
       "    }\n",
       "\n",
       "    .dataframe thead th {\n",
       "        text-align: right;\n",
       "    }\n",
       "</style>\n",
       "<table border=\"1\" class=\"dataframe\">\n",
       "  <thead>\n",
       "    <tr style=\"text-align: right;\">\n",
       "      <th></th>\n",
       "      <th>Sex</th>\n",
       "      <th>Length</th>\n",
       "      <th>Diameter</th>\n",
       "      <th>Height</th>\n",
       "      <th>Whole_weight</th>\n",
       "      <th>Shucked_weight</th>\n",
       "      <th>Viscera_weight</th>\n",
       "      <th>Shell_weight</th>\n",
       "      <th>Rings</th>\n",
       "    </tr>\n",
       "  </thead>\n",
       "  <tbody>\n",
       "    <tr>\n",
       "      <th>0</th>\n",
       "      <td>M</td>\n",
       "      <td>0.455</td>\n",
       "      <td>0.365</td>\n",
       "      <td>0.095</td>\n",
       "      <td>0.5140</td>\n",
       "      <td>0.2245</td>\n",
       "      <td>0.1010</td>\n",
       "      <td>0.150</td>\n",
       "      <td>15</td>\n",
       "    </tr>\n",
       "    <tr>\n",
       "      <th>1</th>\n",
       "      <td>M</td>\n",
       "      <td>0.350</td>\n",
       "      <td>0.265</td>\n",
       "      <td>0.090</td>\n",
       "      <td>0.2255</td>\n",
       "      <td>0.0995</td>\n",
       "      <td>0.0485</td>\n",
       "      <td>0.070</td>\n",
       "      <td>7</td>\n",
       "    </tr>\n",
       "    <tr>\n",
       "      <th>2</th>\n",
       "      <td>F</td>\n",
       "      <td>0.530</td>\n",
       "      <td>0.420</td>\n",
       "      <td>0.135</td>\n",
       "      <td>0.6770</td>\n",
       "      <td>0.2565</td>\n",
       "      <td>0.1415</td>\n",
       "      <td>0.210</td>\n",
       "      <td>9</td>\n",
       "    </tr>\n",
       "    <tr>\n",
       "      <th>3</th>\n",
       "      <td>M</td>\n",
       "      <td>0.440</td>\n",
       "      <td>0.365</td>\n",
       "      <td>0.125</td>\n",
       "      <td>0.5160</td>\n",
       "      <td>0.2155</td>\n",
       "      <td>0.1140</td>\n",
       "      <td>0.155</td>\n",
       "      <td>10</td>\n",
       "    </tr>\n",
       "    <tr>\n",
       "      <th>4</th>\n",
       "      <td>I</td>\n",
       "      <td>0.330</td>\n",
       "      <td>0.255</td>\n",
       "      <td>0.080</td>\n",
       "      <td>0.2050</td>\n",
       "      <td>0.0895</td>\n",
       "      <td>0.0395</td>\n",
       "      <td>0.055</td>\n",
       "      <td>7</td>\n",
       "    </tr>\n",
       "  </tbody>\n",
       "</table>\n",
       "</div>"
      ],
      "text/plain": [
       "  Sex  Length  Diameter  Height  Whole_weight  Shucked_weight  Viscera_weight  \\\n",
       "0   M   0.455     0.365   0.095        0.5140          0.2245          0.1010   \n",
       "1   M   0.350     0.265   0.090        0.2255          0.0995          0.0485   \n",
       "2   F   0.530     0.420   0.135        0.6770          0.2565          0.1415   \n",
       "3   M   0.440     0.365   0.125        0.5160          0.2155          0.1140   \n",
       "4   I   0.330     0.255   0.080        0.2050          0.0895          0.0395   \n",
       "\n",
       "   Shell_weight  Rings  \n",
       "0         0.150     15  \n",
       "1         0.070      7  \n",
       "2         0.210      9  \n",
       "3         0.155     10  \n",
       "4         0.055      7  "
      ]
     },
     "execution_count": 5,
     "metadata": {},
     "output_type": "execute_result"
    }
   ],
   "source": [
    "abalone = pd.read_csv(\"abalone.tsv\", sep=\"\\t\")\n",
    "abalone.head()"
   ]
  },
  {
   "cell_type": "code",
   "execution_count": 6,
   "metadata": {},
   "outputs": [
    {
     "data": {
      "text/html": [
       "<div>\n",
       "<style scoped>\n",
       "    .dataframe tbody tr th:only-of-type {\n",
       "        vertical-align: middle;\n",
       "    }\n",
       "\n",
       "    .dataframe tbody tr th {\n",
       "        vertical-align: top;\n",
       "    }\n",
       "\n",
       "    .dataframe thead th {\n",
       "        text-align: right;\n",
       "    }\n",
       "</style>\n",
       "<table border=\"1\" class=\"dataframe\">\n",
       "  <thead>\n",
       "    <tr style=\"text-align: right;\">\n",
       "      <th></th>\n",
       "      <th>studyName</th>\n",
       "      <th>Species</th>\n",
       "      <th>Region</th>\n",
       "      <th>Island</th>\n",
       "      <th>Stage</th>\n",
       "      <th>Individual ID</th>\n",
       "      <th>Clutch Completion</th>\n",
       "      <th>Date Egg</th>\n",
       "      <th>Culmen Length (mm)</th>\n",
       "      <th>Culmen Depth (mm)</th>\n",
       "      <th>Flipper Length (mm)</th>\n",
       "      <th>Body Mass (g)</th>\n",
       "      <th>Sex</th>\n",
       "      <th>Delta 15 N (o/oo)</th>\n",
       "      <th>Delta 13 C (o/oo)</th>\n",
       "      <th>Comments</th>\n",
       "    </tr>\n",
       "    <tr>\n",
       "      <th>Sample Number</th>\n",
       "      <th></th>\n",
       "      <th></th>\n",
       "      <th></th>\n",
       "      <th></th>\n",
       "      <th></th>\n",
       "      <th></th>\n",
       "      <th></th>\n",
       "      <th></th>\n",
       "      <th></th>\n",
       "      <th></th>\n",
       "      <th></th>\n",
       "      <th></th>\n",
       "      <th></th>\n",
       "      <th></th>\n",
       "      <th></th>\n",
       "      <th></th>\n",
       "    </tr>\n",
       "  </thead>\n",
       "  <tbody>\n",
       "    <tr>\n",
       "      <th>1</th>\n",
       "      <td>PAL0708</td>\n",
       "      <td>Adelie Penguin (Pygoscelis adeliae)</td>\n",
       "      <td>Anvers</td>\n",
       "      <td>Torgersen</td>\n",
       "      <td>Adult, 1 Egg Stage</td>\n",
       "      <td>N1A1</td>\n",
       "      <td>Yes</td>\n",
       "      <td>2007-11-11</td>\n",
       "      <td>39.1</td>\n",
       "      <td>18.7</td>\n",
       "      <td>181.0</td>\n",
       "      <td>3750.0</td>\n",
       "      <td>MALE</td>\n",
       "      <td>NaN</td>\n",
       "      <td>NaN</td>\n",
       "      <td>Not enough blood for isotopes.</td>\n",
       "    </tr>\n",
       "    <tr>\n",
       "      <th>2</th>\n",
       "      <td>PAL0708</td>\n",
       "      <td>Adelie Penguin (Pygoscelis adeliae)</td>\n",
       "      <td>Anvers</td>\n",
       "      <td>Torgersen</td>\n",
       "      <td>Adult, 1 Egg Stage</td>\n",
       "      <td>N1A2</td>\n",
       "      <td>Yes</td>\n",
       "      <td>2007-11-11</td>\n",
       "      <td>39.5</td>\n",
       "      <td>17.4</td>\n",
       "      <td>186.0</td>\n",
       "      <td>3800.0</td>\n",
       "      <td>FEMALE</td>\n",
       "      <td>8.94956</td>\n",
       "      <td>-24.69454</td>\n",
       "      <td>NaN</td>\n",
       "    </tr>\n",
       "    <tr>\n",
       "      <th>3</th>\n",
       "      <td>PAL0708</td>\n",
       "      <td>Adelie Penguin (Pygoscelis adeliae)</td>\n",
       "      <td>Anvers</td>\n",
       "      <td>Torgersen</td>\n",
       "      <td>Adult, 1 Egg Stage</td>\n",
       "      <td>N2A1</td>\n",
       "      <td>Yes</td>\n",
       "      <td>2007-11-16</td>\n",
       "      <td>40.3</td>\n",
       "      <td>18.0</td>\n",
       "      <td>195.0</td>\n",
       "      <td>3250.0</td>\n",
       "      <td>FEMALE</td>\n",
       "      <td>8.36821</td>\n",
       "      <td>-25.33302</td>\n",
       "      <td>NaN</td>\n",
       "    </tr>\n",
       "    <tr>\n",
       "      <th>4</th>\n",
       "      <td>PAL0708</td>\n",
       "      <td>Adelie Penguin (Pygoscelis adeliae)</td>\n",
       "      <td>Anvers</td>\n",
       "      <td>Torgersen</td>\n",
       "      <td>Adult, 1 Egg Stage</td>\n",
       "      <td>N2A2</td>\n",
       "      <td>Yes</td>\n",
       "      <td>2007-11-16</td>\n",
       "      <td>NaN</td>\n",
       "      <td>NaN</td>\n",
       "      <td>NaN</td>\n",
       "      <td>NaN</td>\n",
       "      <td>NaN</td>\n",
       "      <td>NaN</td>\n",
       "      <td>NaN</td>\n",
       "      <td>Adult not sampled.</td>\n",
       "    </tr>\n",
       "    <tr>\n",
       "      <th>5</th>\n",
       "      <td>PAL0708</td>\n",
       "      <td>Adelie Penguin (Pygoscelis adeliae)</td>\n",
       "      <td>Anvers</td>\n",
       "      <td>Torgersen</td>\n",
       "      <td>Adult, 1 Egg Stage</td>\n",
       "      <td>N3A1</td>\n",
       "      <td>Yes</td>\n",
       "      <td>2007-11-16</td>\n",
       "      <td>36.7</td>\n",
       "      <td>19.3</td>\n",
       "      <td>193.0</td>\n",
       "      <td>3450.0</td>\n",
       "      <td>FEMALE</td>\n",
       "      <td>8.76651</td>\n",
       "      <td>-25.32426</td>\n",
       "      <td>NaN</td>\n",
       "    </tr>\n",
       "  </tbody>\n",
       "</table>\n",
       "</div>"
      ],
      "text/plain": [
       "              studyName                              Species  Region  \\\n",
       "Sample Number                                                          \n",
       "1               PAL0708  Adelie Penguin (Pygoscelis adeliae)  Anvers   \n",
       "2               PAL0708  Adelie Penguin (Pygoscelis adeliae)  Anvers   \n",
       "3               PAL0708  Adelie Penguin (Pygoscelis adeliae)  Anvers   \n",
       "4               PAL0708  Adelie Penguin (Pygoscelis adeliae)  Anvers   \n",
       "5               PAL0708  Adelie Penguin (Pygoscelis adeliae)  Anvers   \n",
       "\n",
       "                  Island               Stage Individual ID Clutch Completion  \\\n",
       "Sample Number                                                                  \n",
       "1              Torgersen  Adult, 1 Egg Stage          N1A1               Yes   \n",
       "2              Torgersen  Adult, 1 Egg Stage          N1A2               Yes   \n",
       "3              Torgersen  Adult, 1 Egg Stage          N2A1               Yes   \n",
       "4              Torgersen  Adult, 1 Egg Stage          N2A2               Yes   \n",
       "5              Torgersen  Adult, 1 Egg Stage          N3A1               Yes   \n",
       "\n",
       "                 Date Egg  Culmen Length (mm)  Culmen Depth (mm)  \\\n",
       "Sample Number                                                      \n",
       "1              2007-11-11                39.1               18.7   \n",
       "2              2007-11-11                39.5               17.4   \n",
       "3              2007-11-16                40.3               18.0   \n",
       "4              2007-11-16                 NaN                NaN   \n",
       "5              2007-11-16                36.7               19.3   \n",
       "\n",
       "               Flipper Length (mm)  Body Mass (g)     Sex  Delta 15 N (o/oo)  \\\n",
       "Sample Number                                                                  \n",
       "1                            181.0         3750.0    MALE                NaN   \n",
       "2                            186.0         3800.0  FEMALE            8.94956   \n",
       "3                            195.0         3250.0  FEMALE            8.36821   \n",
       "4                              NaN            NaN     NaN                NaN   \n",
       "5                            193.0         3450.0  FEMALE            8.76651   \n",
       "\n",
       "               Delta 13 C (o/oo)                        Comments  \n",
       "Sample Number                                                     \n",
       "1                            NaN  Not enough blood for isotopes.  \n",
       "2                      -24.69454                             NaN  \n",
       "3                      -25.33302                             NaN  \n",
       "4                            NaN              Adult not sampled.  \n",
       "5                      -25.32426                             NaN  "
      ]
     },
     "execution_count": 6,
     "metadata": {},
     "output_type": "execute_result"
    }
   ],
   "source": [
    "penguins_adelie = pd.read_csv(\"https://raw.githubusercontent.com/bu-cds-omds/dx602-examples/refs/heads/main/data/palmer-penguins-adelie.csv\", index_col=\"Sample Number\")\n",
    "penguins_gentoo = pd.read_csv(\"https://raw.githubusercontent.com/bu-cds-omds/dx602-examples/refs/heads/main/data/palmer-penguins-gentoo.csv\", index_col=\"Sample Number\")\n",
    "penguins_chinstrap = pd.read_csv(\"https://raw.githubusercontent.com/bu-cds-omds/dx602-examples/refs/heads/main/data/palmer-penguins-chinstrap.csv\", index_col=\"Sample Number\")\n",
    "penguins = pd.concat([penguins_adelie, penguins_gentoo, penguins_chinstrap])\n",
    "penguins.head()"
   ]
  },
  {
   "cell_type": "markdown",
   "metadata": {},
   "source": [
    "## Problems"
   ]
  },
  {
   "cell_type": "markdown",
   "metadata": {},
   "source": [
    "### Problem 1\n",
    "\n",
    "Set `p1` to be a data frame of penguin data from the Palmer Penguins data set grouped by species, region, and island, with the average measurements."
   ]
  },
  {
   "cell_type": "code",
   "execution_count": 7,
   "metadata": {},
   "outputs": [],
   "source": [
    "# YOUR CHANGES HERE\n",
    "\n",
    "# use df.groupby().mean(numeric_only=True)\n",
    "p1 = penguins.groupby([\"Species\", \"Region\", \"Island\"]).mean(numeric_only=True)"
   ]
  },
  {
   "cell_type": "code",
   "execution_count": 8,
   "metadata": {},
   "outputs": [
    {
     "data": {
      "text/html": [
       "<div>\n",
       "<style scoped>\n",
       "    .dataframe tbody tr th:only-of-type {\n",
       "        vertical-align: middle;\n",
       "    }\n",
       "\n",
       "    .dataframe tbody tr th {\n",
       "        vertical-align: top;\n",
       "    }\n",
       "\n",
       "    .dataframe thead th {\n",
       "        text-align: right;\n",
       "    }\n",
       "</style>\n",
       "<table border=\"1\" class=\"dataframe\">\n",
       "  <thead>\n",
       "    <tr style=\"text-align: right;\">\n",
       "      <th></th>\n",
       "      <th></th>\n",
       "      <th></th>\n",
       "      <th>Culmen Length (mm)</th>\n",
       "      <th>Culmen Depth (mm)</th>\n",
       "      <th>Flipper Length (mm)</th>\n",
       "      <th>Body Mass (g)</th>\n",
       "      <th>Delta 15 N (o/oo)</th>\n",
       "      <th>Delta 13 C (o/oo)</th>\n",
       "    </tr>\n",
       "    <tr>\n",
       "      <th>Species</th>\n",
       "      <th>Region</th>\n",
       "      <th>Island</th>\n",
       "      <th></th>\n",
       "      <th></th>\n",
       "      <th></th>\n",
       "      <th></th>\n",
       "      <th></th>\n",
       "      <th></th>\n",
       "    </tr>\n",
       "  </thead>\n",
       "  <tbody>\n",
       "    <tr>\n",
       "      <th rowspan=\"3\" valign=\"top\">Adelie Penguin (Pygoscelis adeliae)</th>\n",
       "      <th rowspan=\"3\" valign=\"top\">Anvers</th>\n",
       "      <th>Biscoe</th>\n",
       "      <td>38.975000</td>\n",
       "      <td>18.370455</td>\n",
       "      <td>188.795455</td>\n",
       "      <td>3709.659091</td>\n",
       "      <td>8.823593</td>\n",
       "      <td>-25.918702</td>\n",
       "    </tr>\n",
       "    <tr>\n",
       "      <th>Dream</th>\n",
       "      <td>38.501786</td>\n",
       "      <td>18.251786</td>\n",
       "      <td>189.732143</td>\n",
       "      <td>3688.392857</td>\n",
       "      <td>8.948276</td>\n",
       "      <td>-25.747446</td>\n",
       "    </tr>\n",
       "    <tr>\n",
       "      <th>Torgersen</th>\n",
       "      <td>38.950980</td>\n",
       "      <td>18.429412</td>\n",
       "      <td>191.196078</td>\n",
       "      <td>3706.372549</td>\n",
       "      <td>8.792753</td>\n",
       "      <td>-25.757806</td>\n",
       "    </tr>\n",
       "    <tr>\n",
       "      <th>Chinstrap penguin (Pygoscelis antarctica)</th>\n",
       "      <th>Anvers</th>\n",
       "      <th>Dream</th>\n",
       "      <td>48.833824</td>\n",
       "      <td>18.420588</td>\n",
       "      <td>195.823529</td>\n",
       "      <td>3733.088235</td>\n",
       "      <td>9.356155</td>\n",
       "      <td>-24.546542</td>\n",
       "    </tr>\n",
       "    <tr>\n",
       "      <th>Gentoo penguin (Pygoscelis papua)</th>\n",
       "      <th>Anvers</th>\n",
       "      <th>Biscoe</th>\n",
       "      <td>47.504878</td>\n",
       "      <td>14.982114</td>\n",
       "      <td>217.186992</td>\n",
       "      <td>5076.016260</td>\n",
       "      <td>8.245338</td>\n",
       "      <td>-26.185298</td>\n",
       "    </tr>\n",
       "  </tbody>\n",
       "</table>\n",
       "</div>"
      ],
      "text/plain": [
       "                                                            Culmen Length (mm)  \\\n",
       "Species                                   Region Island                          \n",
       "Adelie Penguin (Pygoscelis adeliae)       Anvers Biscoe              38.975000   \n",
       "                                                 Dream               38.501786   \n",
       "                                                 Torgersen           38.950980   \n",
       "Chinstrap penguin (Pygoscelis antarctica) Anvers Dream               48.833824   \n",
       "Gentoo penguin (Pygoscelis papua)         Anvers Biscoe              47.504878   \n",
       "\n",
       "                                                            Culmen Depth (mm)  \\\n",
       "Species                                   Region Island                         \n",
       "Adelie Penguin (Pygoscelis adeliae)       Anvers Biscoe             18.370455   \n",
       "                                                 Dream              18.251786   \n",
       "                                                 Torgersen          18.429412   \n",
       "Chinstrap penguin (Pygoscelis antarctica) Anvers Dream              18.420588   \n",
       "Gentoo penguin (Pygoscelis papua)         Anvers Biscoe             14.982114   \n",
       "\n",
       "                                                            Flipper Length (mm)  \\\n",
       "Species                                   Region Island                           \n",
       "Adelie Penguin (Pygoscelis adeliae)       Anvers Biscoe              188.795455   \n",
       "                                                 Dream               189.732143   \n",
       "                                                 Torgersen           191.196078   \n",
       "Chinstrap penguin (Pygoscelis antarctica) Anvers Dream               195.823529   \n",
       "Gentoo penguin (Pygoscelis papua)         Anvers Biscoe              217.186992   \n",
       "\n",
       "                                                            Body Mass (g)  \\\n",
       "Species                                   Region Island                     \n",
       "Adelie Penguin (Pygoscelis adeliae)       Anvers Biscoe       3709.659091   \n",
       "                                                 Dream        3688.392857   \n",
       "                                                 Torgersen    3706.372549   \n",
       "Chinstrap penguin (Pygoscelis antarctica) Anvers Dream        3733.088235   \n",
       "Gentoo penguin (Pygoscelis papua)         Anvers Biscoe       5076.016260   \n",
       "\n",
       "                                                            Delta 15 N (o/oo)  \\\n",
       "Species                                   Region Island                         \n",
       "Adelie Penguin (Pygoscelis adeliae)       Anvers Biscoe              8.823593   \n",
       "                                                 Dream               8.948276   \n",
       "                                                 Torgersen           8.792753   \n",
       "Chinstrap penguin (Pygoscelis antarctica) Anvers Dream               9.356155   \n",
       "Gentoo penguin (Pygoscelis papua)         Anvers Biscoe              8.245338   \n",
       "\n",
       "                                                            Delta 13 C (o/oo)  \n",
       "Species                                   Region Island                        \n",
       "Adelie Penguin (Pygoscelis adeliae)       Anvers Biscoe            -25.918702  \n",
       "                                                 Dream             -25.747446  \n",
       "                                                 Torgersen         -25.757806  \n",
       "Chinstrap penguin (Pygoscelis antarctica) Anvers Dream             -24.546542  \n",
       "Gentoo penguin (Pygoscelis papua)         Anvers Biscoe            -26.185298  "
      ]
     },
     "execution_count": 8,
     "metadata": {},
     "output_type": "execute_result"
    }
   ],
   "source": [
    "p1"
   ]
  },
  {
   "cell_type": "markdown",
   "metadata": {},
   "source": [
    "### Problem 2\n",
    "\n",
    "Set `p2` to be a data frame or series of the unique islands in the penguins data set."
   ]
  },
  {
   "cell_type": "markdown",
   "metadata": {},
   "source": [
    "Hint: while this can be done with the groupby method, there are more direct ways that you have seen to do this."
   ]
  },
  {
   "cell_type": "code",
   "execution_count": 9,
   "metadata": {},
   "outputs": [],
   "source": [
    "# YOUR CHANGES HERE\n",
    "\n",
    "# use df.unique() method\n",
    "p2 = penguins[\"Island\"].unique()"
   ]
  },
  {
   "cell_type": "code",
   "execution_count": 10,
   "metadata": {},
   "outputs": [
    {
     "data": {
      "text/plain": [
       "array(['Torgersen', 'Biscoe', 'Dream'], dtype=object)"
      ]
     },
     "execution_count": 10,
     "metadata": {},
     "output_type": "execute_result"
    }
   ],
   "source": [
    "p2"
   ]
  },
  {
   "cell_type": "markdown",
   "metadata": {},
   "source": [
    "### Problem 3\n",
    "\n",
    "Set `p3` to a query string filtering a data frame of abalone data to just the rows where the number of rings is 10 or fewer and the abalone is female.\n",
    "This query string should be suitable to use with the data frame `query` method."
   ]
  },
  {
   "cell_type": "code",
   "execution_count": 11,
   "metadata": {},
   "outputs": [],
   "source": [
    "# YOUR CHANGES HERE\n",
    "\n",
    "# query string for female abalones with 10 or fewer rings\n",
    "p3 = 'Sex == \"F\" and Rings <= 10'"
   ]
  },
  {
   "cell_type": "code",
   "execution_count": 12,
   "metadata": {},
   "outputs": [
    {
     "data": {
      "text/html": [
       "<div>\n",
       "<style scoped>\n",
       "    .dataframe tbody tr th:only-of-type {\n",
       "        vertical-align: middle;\n",
       "    }\n",
       "\n",
       "    .dataframe tbody tr th {\n",
       "        vertical-align: top;\n",
       "    }\n",
       "\n",
       "    .dataframe thead th {\n",
       "        text-align: right;\n",
       "    }\n",
       "</style>\n",
       "<table border=\"1\" class=\"dataframe\">\n",
       "  <thead>\n",
       "    <tr style=\"text-align: right;\">\n",
       "      <th></th>\n",
       "      <th>Sex</th>\n",
       "      <th>Length</th>\n",
       "      <th>Diameter</th>\n",
       "      <th>Height</th>\n",
       "      <th>Whole_weight</th>\n",
       "      <th>Shucked_weight</th>\n",
       "      <th>Viscera_weight</th>\n",
       "      <th>Shell_weight</th>\n",
       "      <th>Rings</th>\n",
       "    </tr>\n",
       "  </thead>\n",
       "  <tbody>\n",
       "    <tr>\n",
       "      <th>2</th>\n",
       "      <td>F</td>\n",
       "      <td>0.530</td>\n",
       "      <td>0.420</td>\n",
       "      <td>0.135</td>\n",
       "      <td>0.6770</td>\n",
       "      <td>0.2565</td>\n",
       "      <td>0.1415</td>\n",
       "      <td>0.2100</td>\n",
       "      <td>9</td>\n",
       "    </tr>\n",
       "    <tr>\n",
       "      <th>13</th>\n",
       "      <td>F</td>\n",
       "      <td>0.535</td>\n",
       "      <td>0.405</td>\n",
       "      <td>0.145</td>\n",
       "      <td>0.6845</td>\n",
       "      <td>0.2725</td>\n",
       "      <td>0.1710</td>\n",
       "      <td>0.2050</td>\n",
       "      <td>10</td>\n",
       "    </tr>\n",
       "    <tr>\n",
       "      <th>14</th>\n",
       "      <td>F</td>\n",
       "      <td>0.470</td>\n",
       "      <td>0.355</td>\n",
       "      <td>0.100</td>\n",
       "      <td>0.4755</td>\n",
       "      <td>0.1675</td>\n",
       "      <td>0.0805</td>\n",
       "      <td>0.1850</td>\n",
       "      <td>10</td>\n",
       "    </tr>\n",
       "    <tr>\n",
       "      <th>17</th>\n",
       "      <td>F</td>\n",
       "      <td>0.440</td>\n",
       "      <td>0.340</td>\n",
       "      <td>0.100</td>\n",
       "      <td>0.4510</td>\n",
       "      <td>0.1880</td>\n",
       "      <td>0.0870</td>\n",
       "      <td>0.1300</td>\n",
       "      <td>10</td>\n",
       "    </tr>\n",
       "    <tr>\n",
       "      <th>23</th>\n",
       "      <td>F</td>\n",
       "      <td>0.550</td>\n",
       "      <td>0.415</td>\n",
       "      <td>0.135</td>\n",
       "      <td>0.7635</td>\n",
       "      <td>0.3180</td>\n",
       "      <td>0.2100</td>\n",
       "      <td>0.2000</td>\n",
       "      <td>9</td>\n",
       "    </tr>\n",
       "    <tr>\n",
       "      <th>...</th>\n",
       "      <td>...</td>\n",
       "      <td>...</td>\n",
       "      <td>...</td>\n",
       "      <td>...</td>\n",
       "      <td>...</td>\n",
       "      <td>...</td>\n",
       "      <td>...</td>\n",
       "      <td>...</td>\n",
       "      <td>...</td>\n",
       "    </tr>\n",
       "    <tr>\n",
       "      <th>4139</th>\n",
       "      <td>F</td>\n",
       "      <td>0.635</td>\n",
       "      <td>0.495</td>\n",
       "      <td>0.175</td>\n",
       "      <td>1.2355</td>\n",
       "      <td>0.5205</td>\n",
       "      <td>0.3085</td>\n",
       "      <td>0.3470</td>\n",
       "      <td>10</td>\n",
       "    </tr>\n",
       "    <tr>\n",
       "      <th>4140</th>\n",
       "      <td>F</td>\n",
       "      <td>0.645</td>\n",
       "      <td>0.535</td>\n",
       "      <td>0.190</td>\n",
       "      <td>1.2395</td>\n",
       "      <td>0.4680</td>\n",
       "      <td>0.2385</td>\n",
       "      <td>0.4240</td>\n",
       "      <td>10</td>\n",
       "    </tr>\n",
       "    <tr>\n",
       "      <th>4159</th>\n",
       "      <td>F</td>\n",
       "      <td>0.560</td>\n",
       "      <td>0.440</td>\n",
       "      <td>0.135</td>\n",
       "      <td>0.8025</td>\n",
       "      <td>0.3500</td>\n",
       "      <td>0.1615</td>\n",
       "      <td>0.2590</td>\n",
       "      <td>9</td>\n",
       "    </tr>\n",
       "    <tr>\n",
       "      <th>4168</th>\n",
       "      <td>F</td>\n",
       "      <td>0.515</td>\n",
       "      <td>0.400</td>\n",
       "      <td>0.125</td>\n",
       "      <td>0.6150</td>\n",
       "      <td>0.2865</td>\n",
       "      <td>0.1230</td>\n",
       "      <td>0.1765</td>\n",
       "      <td>8</td>\n",
       "    </tr>\n",
       "    <tr>\n",
       "      <th>4175</th>\n",
       "      <td>F</td>\n",
       "      <td>0.625</td>\n",
       "      <td>0.485</td>\n",
       "      <td>0.150</td>\n",
       "      <td>1.0945</td>\n",
       "      <td>0.5310</td>\n",
       "      <td>0.2610</td>\n",
       "      <td>0.2960</td>\n",
       "      <td>10</td>\n",
       "    </tr>\n",
       "  </tbody>\n",
       "</table>\n",
       "<p>672 rows × 9 columns</p>\n",
       "</div>"
      ],
      "text/plain": [
       "     Sex  Length  Diameter  Height  Whole_weight  Shucked_weight  \\\n",
       "2      F   0.530     0.420   0.135        0.6770          0.2565   \n",
       "13     F   0.535     0.405   0.145        0.6845          0.2725   \n",
       "14     F   0.470     0.355   0.100        0.4755          0.1675   \n",
       "17     F   0.440     0.340   0.100        0.4510          0.1880   \n",
       "23     F   0.550     0.415   0.135        0.7635          0.3180   \n",
       "...   ..     ...       ...     ...           ...             ...   \n",
       "4139   F   0.635     0.495   0.175        1.2355          0.5205   \n",
       "4140   F   0.645     0.535   0.190        1.2395          0.4680   \n",
       "4159   F   0.560     0.440   0.135        0.8025          0.3500   \n",
       "4168   F   0.515     0.400   0.125        0.6150          0.2865   \n",
       "4175   F   0.625     0.485   0.150        1.0945          0.5310   \n",
       "\n",
       "      Viscera_weight  Shell_weight  Rings  \n",
       "2             0.1415        0.2100      9  \n",
       "13            0.1710        0.2050     10  \n",
       "14            0.0805        0.1850     10  \n",
       "17            0.0870        0.1300     10  \n",
       "23            0.2100        0.2000      9  \n",
       "...              ...           ...    ...  \n",
       "4139          0.3085        0.3470     10  \n",
       "4140          0.2385        0.4240     10  \n",
       "4159          0.1615        0.2590      9  \n",
       "4168          0.1230        0.1765      8  \n",
       "4175          0.2610        0.2960     10  \n",
       "\n",
       "[672 rows x 9 columns]"
      ]
     },
     "execution_count": 12,
     "metadata": {},
     "output_type": "execute_result"
    }
   ],
   "source": [
    "# show query results if p3 was set\n",
    "\n",
    "abalone.query(p3) if p3 is not ... else None"
   ]
  },
  {
   "cell_type": "markdown",
   "metadata": {},
   "source": [
    "### Problem 4\n",
    "\n",
    "The variable `p4` has a some data about fruits with some missing ratings.\n",
    "The variable `q4` has some data updates to fill in the missing ratings.\n",
    "Use `q4` to fill in the missing data in `p4`."
   ]
  },
  {
   "cell_type": "markdown",
   "metadata": {},
   "source": [
    "Hint: you just want to *update* the data, not replace the entire column."
   ]
  },
  {
   "cell_type": "code",
   "execution_count": 13,
   "metadata": {},
   "outputs": [
    {
     "data": {
      "text/html": [
       "<div>\n",
       "<style scoped>\n",
       "    .dataframe tbody tr th:only-of-type {\n",
       "        vertical-align: middle;\n",
       "    }\n",
       "\n",
       "    .dataframe tbody tr th {\n",
       "        vertical-align: top;\n",
       "    }\n",
       "\n",
       "    .dataframe thead th {\n",
       "        text-align: right;\n",
       "    }\n",
       "</style>\n",
       "<table border=\"1\" class=\"dataframe\">\n",
       "  <thead>\n",
       "    <tr style=\"text-align: right;\">\n",
       "      <th></th>\n",
       "      <th>color</th>\n",
       "      <th>rating</th>\n",
       "    </tr>\n",
       "  </thead>\n",
       "  <tbody>\n",
       "    <tr>\n",
       "      <th>apple</th>\n",
       "      <td>red</td>\n",
       "      <td>NaN</td>\n",
       "    </tr>\n",
       "    <tr>\n",
       "      <th>grape</th>\n",
       "      <td>green</td>\n",
       "      <td>NaN</td>\n",
       "    </tr>\n",
       "    <tr>\n",
       "      <th>kiwi</th>\n",
       "      <td>brown</td>\n",
       "      <td>NaN</td>\n",
       "    </tr>\n",
       "    <tr>\n",
       "      <th>mango</th>\n",
       "      <td>yellow</td>\n",
       "      <td>5.0</td>\n",
       "    </tr>\n",
       "    <tr>\n",
       "      <th>papaya</th>\n",
       "      <td>orange</td>\n",
       "      <td>4.0</td>\n",
       "    </tr>\n",
       "    <tr>\n",
       "      <th>pear</th>\n",
       "      <td>green</td>\n",
       "      <td>3.0</td>\n",
       "    </tr>\n",
       "  </tbody>\n",
       "</table>\n",
       "</div>"
      ],
      "text/plain": [
       "         color  rating\n",
       "apple      red     NaN\n",
       "grape    green     NaN\n",
       "kiwi     brown     NaN\n",
       "mango   yellow     5.0\n",
       "papaya  orange     4.0\n",
       "pear     green     3.0"
      ]
     },
     "execution_count": 13,
     "metadata": {},
     "output_type": "execute_result"
    }
   ],
   "source": [
    "# DO NOT CHANGE\n",
    "\n",
    "p4 = pd.DataFrame(\n",
    "    data={\"color\": [\"red\", \"green\", \"brown\", \"yellow\", \"orange\", \"green\"],\n",
    "          \"rating\": [None, None, None, 5, 4, 3]},\n",
    "    index=['apple', 'grape', 'kiwi', 'mango', 'papaya', 'pear'])\n",
    "p4"
   ]
  },
  {
   "cell_type": "code",
   "execution_count": 14,
   "metadata": {},
   "outputs": [
    {
     "data": {
      "text/html": [
       "<div>\n",
       "<style scoped>\n",
       "    .dataframe tbody tr th:only-of-type {\n",
       "        vertical-align: middle;\n",
       "    }\n",
       "\n",
       "    .dataframe tbody tr th {\n",
       "        vertical-align: top;\n",
       "    }\n",
       "\n",
       "    .dataframe thead th {\n",
       "        text-align: right;\n",
       "    }\n",
       "</style>\n",
       "<table border=\"1\" class=\"dataframe\">\n",
       "  <thead>\n",
       "    <tr style=\"text-align: right;\">\n",
       "      <th></th>\n",
       "      <th>rating</th>\n",
       "    </tr>\n",
       "  </thead>\n",
       "  <tbody>\n",
       "    <tr>\n",
       "      <th>kiwi</th>\n",
       "      <td>3</td>\n",
       "    </tr>\n",
       "    <tr>\n",
       "      <th>apple</th>\n",
       "      <td>2</td>\n",
       "    </tr>\n",
       "    <tr>\n",
       "      <th>grape</th>\n",
       "      <td>3</td>\n",
       "    </tr>\n",
       "  </tbody>\n",
       "</table>\n",
       "</div>"
      ],
      "text/plain": [
       "       rating\n",
       "kiwi        3\n",
       "apple       2\n",
       "grape       3"
      ]
     },
     "execution_count": 14,
     "metadata": {},
     "output_type": "execute_result"
    }
   ],
   "source": [
    "# DO NOT CHANGE\n",
    "\n",
    "q4 = pd.DataFrame(data={\"rating\":[3, 2, 3]},\n",
    "                  index=[\"kiwi\", \"apple\", \"grape\"])\n",
    "q4"
   ]
  },
  {
   "cell_type": "code",
   "execution_count": 15,
   "metadata": {},
   "outputs": [],
   "source": [
    "# YOUR CHANGES HERE\n",
    "\n",
    "# use df.update() method to *update* the data, not replace the entire column\n",
    "p4.update(q4)"
   ]
  },
  {
   "cell_type": "code",
   "execution_count": 16,
   "metadata": {},
   "outputs": [
    {
     "data": {
      "text/html": [
       "<div>\n",
       "<style scoped>\n",
       "    .dataframe tbody tr th:only-of-type {\n",
       "        vertical-align: middle;\n",
       "    }\n",
       "\n",
       "    .dataframe tbody tr th {\n",
       "        vertical-align: top;\n",
       "    }\n",
       "\n",
       "    .dataframe thead th {\n",
       "        text-align: right;\n",
       "    }\n",
       "</style>\n",
       "<table border=\"1\" class=\"dataframe\">\n",
       "  <thead>\n",
       "    <tr style=\"text-align: right;\">\n",
       "      <th></th>\n",
       "      <th>color</th>\n",
       "      <th>rating</th>\n",
       "    </tr>\n",
       "  </thead>\n",
       "  <tbody>\n",
       "    <tr>\n",
       "      <th>apple</th>\n",
       "      <td>red</td>\n",
       "      <td>2.0</td>\n",
       "    </tr>\n",
       "    <tr>\n",
       "      <th>grape</th>\n",
       "      <td>green</td>\n",
       "      <td>3.0</td>\n",
       "    </tr>\n",
       "    <tr>\n",
       "      <th>kiwi</th>\n",
       "      <td>brown</td>\n",
       "      <td>3.0</td>\n",
       "    </tr>\n",
       "    <tr>\n",
       "      <th>mango</th>\n",
       "      <td>yellow</td>\n",
       "      <td>5.0</td>\n",
       "    </tr>\n",
       "    <tr>\n",
       "      <th>papaya</th>\n",
       "      <td>orange</td>\n",
       "      <td>4.0</td>\n",
       "    </tr>\n",
       "    <tr>\n",
       "      <th>pear</th>\n",
       "      <td>green</td>\n",
       "      <td>3.0</td>\n",
       "    </tr>\n",
       "  </tbody>\n",
       "</table>\n",
       "</div>"
      ],
      "text/plain": [
       "         color  rating\n",
       "apple      red     2.0\n",
       "grape    green     3.0\n",
       "kiwi     brown     3.0\n",
       "mango   yellow     5.0\n",
       "papaya  orange     4.0\n",
       "pear     green     3.0"
      ]
     },
     "execution_count": 16,
     "metadata": {},
     "output_type": "execute_result"
    }
   ],
   "source": [
    "# this should show no more rows with missing data\n",
    "p4"
   ]
  },
  {
   "cell_type": "markdown",
   "metadata": {},
   "source": [
    "### Problem 5\n",
    "\n",
    "Join the data frame in `q5` with the data in `u5` matching the `hw1_submission` column in `q5` to the index of `u5` and assign the result to `p5`."
   ]
  },
  {
   "cell_type": "code",
   "execution_count": 17,
   "metadata": {},
   "outputs": [
    {
     "data": {
      "text/html": [
       "<div>\n",
       "<style scoped>\n",
       "    .dataframe tbody tr th:only-of-type {\n",
       "        vertical-align: middle;\n",
       "    }\n",
       "\n",
       "    .dataframe tbody tr th {\n",
       "        vertical-align: top;\n",
       "    }\n",
       "\n",
       "    .dataframe thead th {\n",
       "        text-align: right;\n",
       "    }\n",
       "</style>\n",
       "<table border=\"1\" class=\"dataframe\">\n",
       "  <thead>\n",
       "    <tr style=\"text-align: right;\">\n",
       "      <th></th>\n",
       "      <th>student_id</th>\n",
       "      <th>hw1_submission</th>\n",
       "    </tr>\n",
       "  </thead>\n",
       "  <tbody>\n",
       "    <tr>\n",
       "      <th>0</th>\n",
       "      <td>U100</td>\n",
       "      <td>c1325</td>\n",
       "    </tr>\n",
       "    <tr>\n",
       "      <th>1</th>\n",
       "      <td>U101</td>\n",
       "      <td>b231</td>\n",
       "    </tr>\n",
       "    <tr>\n",
       "      <th>2</th>\n",
       "      <td>U102</td>\n",
       "      <td>a512</td>\n",
       "    </tr>\n",
       "    <tr>\n",
       "      <th>3</th>\n",
       "      <td>U103</td>\n",
       "      <td>e9999</td>\n",
       "    </tr>\n",
       "    <tr>\n",
       "      <th>4</th>\n",
       "      <td>U104</td>\n",
       "      <td>d8234</td>\n",
       "    </tr>\n",
       "  </tbody>\n",
       "</table>\n",
       "</div>"
      ],
      "text/plain": [
       "  student_id hw1_submission\n",
       "0       U100          c1325\n",
       "1       U101           b231\n",
       "2       U102           a512\n",
       "3       U103          e9999\n",
       "4       U104          d8234"
      ]
     },
     "execution_count": 17,
     "metadata": {},
     "output_type": "execute_result"
    }
   ],
   "source": [
    "# DO NOT CHANGE\n",
    "\n",
    "q5 = pd.DataFrame(data={\"student_id\": [\"U100\", \"U101\", \"U102\", \"U103\", \"U104\"],\n",
    "                        \"hw1_submission\": [\"c1325\", \"b231\", \"a512\", \"e9999\", \"d8234\"]})\n",
    "q5"
   ]
  },
  {
   "cell_type": "code",
   "execution_count": 18,
   "metadata": {},
   "outputs": [
    {
     "data": {
      "text/html": [
       "<div>\n",
       "<style scoped>\n",
       "    .dataframe tbody tr th:only-of-type {\n",
       "        vertical-align: middle;\n",
       "    }\n",
       "\n",
       "    .dataframe tbody tr th {\n",
       "        vertical-align: top;\n",
       "    }\n",
       "\n",
       "    .dataframe thead th {\n",
       "        text-align: right;\n",
       "    }\n",
       "</style>\n",
       "<table border=\"1\" class=\"dataframe\">\n",
       "  <thead>\n",
       "    <tr style=\"text-align: right;\">\n",
       "      <th></th>\n",
       "      <th>hw1_grade</th>\n",
       "    </tr>\n",
       "  </thead>\n",
       "  <tbody>\n",
       "    <tr>\n",
       "      <th>a512</th>\n",
       "      <td>0.99</td>\n",
       "    </tr>\n",
       "    <tr>\n",
       "      <th>b231</th>\n",
       "      <td>0.50</td>\n",
       "    </tr>\n",
       "    <tr>\n",
       "      <th>c1325</th>\n",
       "      <td>0.62</td>\n",
       "    </tr>\n",
       "    <tr>\n",
       "      <th>d8234</th>\n",
       "      <td>0.78</td>\n",
       "    </tr>\n",
       "    <tr>\n",
       "      <th>e9999</th>\n",
       "      <td>1.00</td>\n",
       "    </tr>\n",
       "  </tbody>\n",
       "</table>\n",
       "</div>"
      ],
      "text/plain": [
       "       hw1_grade\n",
       "a512        0.99\n",
       "b231        0.50\n",
       "c1325       0.62\n",
       "d8234       0.78\n",
       "e9999       1.00"
      ]
     },
     "execution_count": 18,
     "metadata": {},
     "output_type": "execute_result"
    }
   ],
   "source": [
    "# DO NOT CHANGE\n",
    "\n",
    "u5 = pd.DataFrame(index=[\"a512\", \"b231\", \"c1325\", \"d8234\", \"e9999\"],\n",
    "                  data={\"hw1_grade\": [0.99, 0.50, 0.62, 0.78, 1.00]} )\n",
    "u5"
   ]
  },
  {
   "cell_type": "code",
   "execution_count": 19,
   "metadata": {},
   "outputs": [],
   "source": [
    "# YOUR CHANGES HERE\n",
    "\n",
    "# use df.join() to join q5 and u5 on the appropriate columns\n",
    "\n",
    "#p5 = q5.set_index(\"hw1_submission\").join(u5, how=\"inner\").reset_index()\n",
    "p5 = q5.join(u5, on=\"hw1_submission\", how=\"inner\")"
   ]
  },
  {
   "cell_type": "code",
   "execution_count": 20,
   "metadata": {},
   "outputs": [
    {
     "data": {
      "text/html": [
       "<div>\n",
       "<style scoped>\n",
       "    .dataframe tbody tr th:only-of-type {\n",
       "        vertical-align: middle;\n",
       "    }\n",
       "\n",
       "    .dataframe tbody tr th {\n",
       "        vertical-align: top;\n",
       "    }\n",
       "\n",
       "    .dataframe thead th {\n",
       "        text-align: right;\n",
       "    }\n",
       "</style>\n",
       "<table border=\"1\" class=\"dataframe\">\n",
       "  <thead>\n",
       "    <tr style=\"text-align: right;\">\n",
       "      <th></th>\n",
       "      <th>student_id</th>\n",
       "      <th>hw1_submission</th>\n",
       "      <th>hw1_grade</th>\n",
       "    </tr>\n",
       "  </thead>\n",
       "  <tbody>\n",
       "    <tr>\n",
       "      <th>0</th>\n",
       "      <td>U100</td>\n",
       "      <td>c1325</td>\n",
       "      <td>0.62</td>\n",
       "    </tr>\n",
       "    <tr>\n",
       "      <th>1</th>\n",
       "      <td>U101</td>\n",
       "      <td>b231</td>\n",
       "      <td>0.50</td>\n",
       "    </tr>\n",
       "    <tr>\n",
       "      <th>2</th>\n",
       "      <td>U102</td>\n",
       "      <td>a512</td>\n",
       "      <td>0.99</td>\n",
       "    </tr>\n",
       "    <tr>\n",
       "      <th>3</th>\n",
       "      <td>U103</td>\n",
       "      <td>e9999</td>\n",
       "      <td>1.00</td>\n",
       "    </tr>\n",
       "    <tr>\n",
       "      <th>4</th>\n",
       "      <td>U104</td>\n",
       "      <td>d8234</td>\n",
       "      <td>0.78</td>\n",
       "    </tr>\n",
       "  </tbody>\n",
       "</table>\n",
       "</div>"
      ],
      "text/plain": [
       "  student_id hw1_submission  hw1_grade\n",
       "0       U100          c1325       0.62\n",
       "1       U101           b231       0.50\n",
       "2       U102           a512       0.99\n",
       "3       U103          e9999       1.00\n",
       "4       U104          d8234       0.78"
      ]
     },
     "execution_count": 20,
     "metadata": {},
     "output_type": "execute_result"
    }
   ],
   "source": [
    "p5"
   ]
  },
  {
   "cell_type": "markdown",
   "metadata": {},
   "source": [
    "### Problem 6\n",
    "\n",
    "Set `p6` to be the number of penguins in the Palmer Penguins data set with body mass at least 5 kilograms."
   ]
  },
  {
   "cell_type": "markdown",
   "metadata": {},
   "source": [
    "Hint: think of this problem as having two steps. First, filter the data set based on the criteria. Then, count the matching rows."
   ]
  },
  {
   "cell_type": "code",
   "execution_count": 31,
   "metadata": {},
   "outputs": [],
   "source": [
    "# YOUR CHANGES HERE\n",
    "\n",
    "#p6 = penguins[penguins[\"Body Mass (g)\"] >= 5000].count()\n",
    "p6 = penguins.query(\"`Body Mass (g)` >= 5000\").shape[0]\n",
    "\n"
   ]
  },
  {
   "cell_type": "code",
   "execution_count": 32,
   "metadata": {},
   "outputs": [
    {
     "data": {
      "text/plain": [
       "67"
      ]
     },
     "execution_count": 32,
     "metadata": {},
     "output_type": "execute_result"
    }
   ],
   "source": [
    "p6"
   ]
  },
  {
   "cell_type": "markdown",
   "metadata": {},
   "source": [
    "### Problem 7\n",
    "\n",
    "Reproduce the garden bed cost analysis using the files \"design_materials_7.tsv\" and \"material_costs_7\".tsv.\n",
    "Set `p7` to be a data frame with a new \"cost\" column for the cost of each design.\n"
   ]
  },
  {
   "cell_type": "code",
   "execution_count": 23,
   "metadata": {},
   "outputs": [],
   "source": [
    "# YOUR CHANGES HERE\n",
    "\n",
    "# desing materials file\n",
    "design_materials = pd.read_csv(\"design_materials_7.tsv\", sep=\"\\t\", index_col=\"material\")\n",
    "# print(design_materials)\n",
    "\n",
    "# material costs file\n",
    "material_costs = pd.read_csv(\"material_costs_7.tsv\", sep=\"\\t\", index_col=\"material\")\n",
    "# print(material_costs)\n",
    "\n",
    "# join together design_materials and material_costs\n",
    "garden_bed_costs = design_materials.join(material_costs, on=\"material\", how=\"inner\")\n",
    "# garden_bed_costs\n",
    "\n",
    "# now we have quantities and unit costs together, so we can calculate the costs\n",
    "garden_bed_costs[\"cost\"] = garden_bed_costs[\"quantity_per_bed\"] * garden_bed_costs[\"unit_cost\"]\n",
    "\n",
    "p7 = garden_bed_costs"
   ]
  },
  {
   "cell_type": "code",
   "execution_count": 24,
   "metadata": {},
   "outputs": [
    {
     "data": {
      "text/html": [
       "<div>\n",
       "<style scoped>\n",
       "    .dataframe tbody tr th:only-of-type {\n",
       "        vertical-align: middle;\n",
       "    }\n",
       "\n",
       "    .dataframe tbody tr th {\n",
       "        vertical-align: top;\n",
       "    }\n",
       "\n",
       "    .dataframe thead th {\n",
       "        text-align: right;\n",
       "    }\n",
       "</style>\n",
       "<table border=\"1\" class=\"dataframe\">\n",
       "  <thead>\n",
       "    <tr style=\"text-align: right;\">\n",
       "      <th></th>\n",
       "      <th>design</th>\n",
       "      <th>quantity_per_bed</th>\n",
       "      <th>unit_cost</th>\n",
       "      <th>cost</th>\n",
       "    </tr>\n",
       "    <tr>\n",
       "      <th>material</th>\n",
       "      <th></th>\n",
       "      <th></th>\n",
       "      <th></th>\n",
       "      <th></th>\n",
       "    </tr>\n",
       "  </thead>\n",
       "  <tbody>\n",
       "    <tr>\n",
       "      <th>2\" x 6\" x 4'</th>\n",
       "      <td>4' x 4' x 18\"</td>\n",
       "      <td>20</td>\n",
       "      <td>5.92</td>\n",
       "      <td>118.40</td>\n",
       "    </tr>\n",
       "    <tr>\n",
       "      <th>8\" x 8\" x 16\" Cinder Block</th>\n",
       "      <td>4' x 4' x 18\"</td>\n",
       "      <td>12</td>\n",
       "      <td>3.53</td>\n",
       "      <td>42.36</td>\n",
       "    </tr>\n",
       "    <tr>\n",
       "      <th>2\" x 6\" x 4'</th>\n",
       "      <td>4' x 8' x 18\"</td>\n",
       "      <td>6</td>\n",
       "      <td>5.92</td>\n",
       "      <td>35.52</td>\n",
       "    </tr>\n",
       "    <tr>\n",
       "      <th>2\" x 6\" x 8'</th>\n",
       "      <td>4' x 8' x 18\"</td>\n",
       "      <td>14</td>\n",
       "      <td>7.62</td>\n",
       "      <td>106.68</td>\n",
       "    </tr>\n",
       "    <tr>\n",
       "      <th>8\" x 8\" x 16\" Cinder Block</th>\n",
       "      <td>4' x 8' x 18\"</td>\n",
       "      <td>24</td>\n",
       "      <td>3.53</td>\n",
       "      <td>84.72</td>\n",
       "    </tr>\n",
       "    <tr>\n",
       "      <th>2\" x 6\" x 4'</th>\n",
       "      <td>4' x 4' x 12\"</td>\n",
       "      <td>16</td>\n",
       "      <td>5.92</td>\n",
       "      <td>94.72</td>\n",
       "    </tr>\n",
       "    <tr>\n",
       "      <th>8\" x 8\" x 16\" Cinder Block</th>\n",
       "      <td>4' x 4' x 12\"</td>\n",
       "      <td>12</td>\n",
       "      <td>3.53</td>\n",
       "      <td>42.36</td>\n",
       "    </tr>\n",
       "    <tr>\n",
       "      <th>2\" x 6\" x 4'</th>\n",
       "      <td>4' x 8' x 12\"</td>\n",
       "      <td>2</td>\n",
       "      <td>5.92</td>\n",
       "      <td>11.84</td>\n",
       "    </tr>\n",
       "    <tr>\n",
       "      <th>2\" x 6\" x 8'</th>\n",
       "      <td>4' x 8' x 12\"</td>\n",
       "      <td>12</td>\n",
       "      <td>7.62</td>\n",
       "      <td>91.44</td>\n",
       "    </tr>\n",
       "    <tr>\n",
       "      <th>8\" x 8\" x 16\" Cinder Block</th>\n",
       "      <td>4' x 8' x 12\"</td>\n",
       "      <td>24</td>\n",
       "      <td>3.53</td>\n",
       "      <td>84.72</td>\n",
       "    </tr>\n",
       "  </tbody>\n",
       "</table>\n",
       "</div>"
      ],
      "text/plain": [
       "                                   design  quantity_per_bed  unit_cost    cost\n",
       "material                                                                      \n",
       "2\" x 6\" x 4'                4' x 4' x 18\"                20       5.92  118.40\n",
       "8\" x 8\" x 16\" Cinder Block  4' x 4' x 18\"                12       3.53   42.36\n",
       "2\" x 6\" x 4'                4' x 8' x 18\"                 6       5.92   35.52\n",
       "2\" x 6\" x 8'                4' x 8' x 18\"                14       7.62  106.68\n",
       "8\" x 8\" x 16\" Cinder Block  4' x 8' x 18\"                24       3.53   84.72\n",
       "2\" x 6\" x 4'                4' x 4' x 12\"                16       5.92   94.72\n",
       "8\" x 8\" x 16\" Cinder Block  4' x 4' x 12\"                12       3.53   42.36\n",
       "2\" x 6\" x 4'                4' x 8' x 12\"                 2       5.92   11.84\n",
       "2\" x 6\" x 8'                4' x 8' x 12\"                12       7.62   91.44\n",
       "8\" x 8\" x 16\" Cinder Block  4' x 8' x 12\"                24       3.53   84.72"
      ]
     },
     "execution_count": 24,
     "metadata": {},
     "output_type": "execute_result"
    }
   ],
   "source": [
    "# this should use the design names from \"design_materials_7.tsv\" as the index,\n",
    "# and have one cost column.\n",
    "\n",
    "p7"
   ]
  },
  {
   "cell_type": "markdown",
   "metadata": {},
   "source": [
    "### Problem 8\n",
    "\n",
    "Read the code assigning to `q8` below.\n",
    "Set `p8` to be a string suitable to pass `penguins.query` to get a data frame matching `q8`."
   ]
  },
  {
   "cell_type": "code",
   "execution_count": 48,
   "metadata": {},
   "outputs": [],
   "source": [
    "# DO NOT CHANGE\n",
    "\n",
    "q8 = penguins[(penguins[\"Sex\"] == \"MALE\") & (penguins[\"Region\"] == \"Anvers\")]"
   ]
  },
  {
   "cell_type": "code",
   "execution_count": 51,
   "metadata": {},
   "outputs": [],
   "source": [
    "# YOUR CHANGES HERE\n",
    "\n",
    "# p8 = penguins.query(\"`Sex` == 'MALE' and `Region` == 'Anvers'\")\n",
    "p8 = \"`Sex` == 'MALE' and `Region` == 'Anvers'\""
   ]
  },
  {
   "cell_type": "code",
   "execution_count": 52,
   "metadata": {},
   "outputs": [
    {
     "data": {
      "text/html": [
       "<div>\n",
       "<style scoped>\n",
       "    .dataframe tbody tr th:only-of-type {\n",
       "        vertical-align: middle;\n",
       "    }\n",
       "\n",
       "    .dataframe tbody tr th {\n",
       "        vertical-align: top;\n",
       "    }\n",
       "\n",
       "    .dataframe thead tr th {\n",
       "        text-align: left;\n",
       "    }\n",
       "\n",
       "    .dataframe thead tr:last-of-type th {\n",
       "        text-align: right;\n",
       "    }\n",
       "</style>\n",
       "<table border=\"1\" class=\"dataframe\">\n",
       "  <thead>\n",
       "    <tr>\n",
       "      <th>Sample Number</th>\n",
       "    </tr>\n",
       "  </thead>\n",
       "  <tbody>\n",
       "  </tbody>\n",
       "</table>\n",
       "</div>"
      ],
      "text/plain": [
       "Empty DataFrame\n",
       "Columns: []\n",
       "Index: []"
      ]
     },
     "execution_count": 52,
     "metadata": {},
     "output_type": "execute_result"
    }
   ],
   "source": [
    "# the compare method returns rows where the two data frames are different.\n",
    "# if your query string is correct, the comparison should return zero rows with differences.\n",
    "q8.compare(penguins.query(p8)) if p8 is not ... else None\n"
   ]
  },
  {
   "cell_type": "markdown",
   "metadata": {},
   "source": [
    "### Problem 9\n",
    "\n",
    "Set `p9` to be a data frame or series where the index is species from the penguins data set, and there is one column counting the number of penguins of each species.\n",
    "There should only be one row per species in the data frame."
   ]
  },
  {
   "cell_type": "markdown",
   "metadata": {},
   "source": [
    "Hint: what kind of operations would change the penguins data to have an index like this?"
   ]
  },
  {
   "cell_type": "code",
   "execution_count": null,
   "metadata": {},
   "outputs": [],
   "source": [
    "# YOUR CHANGES HERE\n",
    "\n",
    "# to get unique species (there should be three: Adelie, Gentoo, Chinstrap)\n",
    "#p9 = penguins[\"Species\"].unique()\n",
    "\n",
    "# to set index to Species\n",
    "#p9 = penguins.set_index(\"Species\")\n",
    "\n"
   ]
  },
  {
   "cell_type": "code",
   "execution_count": 47,
   "metadata": {},
   "outputs": [
    {
     "data": {
      "text/plain": [
       "array(['Adelie Penguin (Pygoscelis adeliae)',\n",
       "       'Gentoo penguin (Pygoscelis papua)',\n",
       "       'Chinstrap penguin (Pygoscelis antarctica)'], dtype=object)"
      ]
     },
     "execution_count": 47,
     "metadata": {},
     "output_type": "execute_result"
    }
   ],
   "source": [
    "# this data frame should have 3 rows, one for each species.\n",
    "\n",
    "p9"
   ]
  },
  {
   "cell_type": "markdown",
   "metadata": {},
   "source": [
    "### Problem 10\n",
    "\n",
    "Set `p10` to the result of joining the data frame in `q10` with the data in `u10` matching the column `b` in `q10` to the index of `u10`.\n",
    "If there is no matching data in `u10`, the data from `q10` should still be in `p10`.\n"
   ]
  },
  {
   "cell_type": "markdown",
   "metadata": {},
   "source": [
    "Hint: what is the hard part of this join?"
   ]
  },
  {
   "cell_type": "code",
   "execution_count": 51,
   "metadata": {},
   "outputs": [
    {
     "data": {
      "text/html": [
       "<div>\n",
       "<style scoped>\n",
       "    .dataframe tbody tr th:only-of-type {\n",
       "        vertical-align: middle;\n",
       "    }\n",
       "\n",
       "    .dataframe tbody tr th {\n",
       "        vertical-align: top;\n",
       "    }\n",
       "\n",
       "    .dataframe thead th {\n",
       "        text-align: right;\n",
       "    }\n",
       "</style>\n",
       "<table border=\"1\" class=\"dataframe\">\n",
       "  <thead>\n",
       "    <tr style=\"text-align: right;\">\n",
       "      <th></th>\n",
       "      <th>a</th>\n",
       "      <th>b</th>\n",
       "    </tr>\n",
       "  </thead>\n",
       "  <tbody>\n",
       "    <tr>\n",
       "      <th>0</th>\n",
       "      <td>1</td>\n",
       "      <td>9</td>\n",
       "    </tr>\n",
       "    <tr>\n",
       "      <th>1</th>\n",
       "      <td>3</td>\n",
       "      <td>3</td>\n",
       "    </tr>\n",
       "    <tr>\n",
       "      <th>2</th>\n",
       "      <td>6</td>\n",
       "      <td>5</td>\n",
       "    </tr>\n",
       "    <tr>\n",
       "      <th>3</th>\n",
       "      <td>2</td>\n",
       "      <td>7</td>\n",
       "    </tr>\n",
       "    <tr>\n",
       "      <th>4</th>\n",
       "      <td>8</td>\n",
       "      <td>10</td>\n",
       "    </tr>\n",
       "    <tr>\n",
       "      <th>5</th>\n",
       "      <td>10</td>\n",
       "      <td>8</td>\n",
       "    </tr>\n",
       "  </tbody>\n",
       "</table>\n",
       "</div>"
      ],
      "text/plain": [
       "    a   b\n",
       "0   1   9\n",
       "1   3   3\n",
       "2   6   5\n",
       "3   2   7\n",
       "4   8  10\n",
       "5  10   8"
      ]
     },
     "execution_count": 51,
     "metadata": {},
     "output_type": "execute_result"
    }
   ],
   "source": [
    "# DO NOT CHANGE\n",
    "\n",
    "q10 = pd.DataFrame(data={\"a\": [1, 3, 6, 2, 8, 10],\n",
    "                         \"b\": [9, 3, 5, 7, 10, 8]})\n",
    "q10"
   ]
  },
  {
   "cell_type": "code",
   "execution_count": 52,
   "metadata": {},
   "outputs": [
    {
     "data": {
      "text/html": [
       "<div>\n",
       "<style scoped>\n",
       "    .dataframe tbody tr th:only-of-type {\n",
       "        vertical-align: middle;\n",
       "    }\n",
       "\n",
       "    .dataframe tbody tr th {\n",
       "        vertical-align: top;\n",
       "    }\n",
       "\n",
       "    .dataframe thead th {\n",
       "        text-align: right;\n",
       "    }\n",
       "</style>\n",
       "<table border=\"1\" class=\"dataframe\">\n",
       "  <thead>\n",
       "    <tr style=\"text-align: right;\">\n",
       "      <th></th>\n",
       "      <th>c</th>\n",
       "    </tr>\n",
       "    <tr>\n",
       "      <th>b</th>\n",
       "      <th></th>\n",
       "    </tr>\n",
       "  </thead>\n",
       "  <tbody>\n",
       "    <tr>\n",
       "      <th>1</th>\n",
       "      <td>111</td>\n",
       "    </tr>\n",
       "    <tr>\n",
       "      <th>2</th>\n",
       "      <td>222</td>\n",
       "    </tr>\n",
       "    <tr>\n",
       "      <th>3</th>\n",
       "      <td>333</td>\n",
       "    </tr>\n",
       "    <tr>\n",
       "      <th>4</th>\n",
       "      <td>444</td>\n",
       "    </tr>\n",
       "    <tr>\n",
       "      <th>5</th>\n",
       "      <td>555</td>\n",
       "    </tr>\n",
       "    <tr>\n",
       "      <th>6</th>\n",
       "      <td>666</td>\n",
       "    </tr>\n",
       "    <tr>\n",
       "      <th>7</th>\n",
       "      <td>777</td>\n",
       "    </tr>\n",
       "  </tbody>\n",
       "</table>\n",
       "</div>"
      ],
      "text/plain": [
       "     c\n",
       "b     \n",
       "1  111\n",
       "2  222\n",
       "3  333\n",
       "4  444\n",
       "5  555\n",
       "6  666\n",
       "7  777"
      ]
     },
     "execution_count": 52,
     "metadata": {},
     "output_type": "execute_result"
    }
   ],
   "source": [
    "# DO NOT CHANGE\n",
    "\n",
    "u10 = pd.DataFrame(data={\"b\": [1, 2, 3, 4, 5, 6, 7],\n",
    "                         \"c\": [111, 222, 333, 444, 555, 666, 777]})\n",
    "u10 = u10.set_index(\"b\")\n",
    "u10"
   ]
  },
  {
   "cell_type": "code",
   "execution_count": 53,
   "metadata": {},
   "outputs": [],
   "source": [
    "# YOUR CHANGES HERE\n",
    "\n",
    "p10 = ..."
   ]
  },
  {
   "cell_type": "code",
   "execution_count": 54,
   "metadata": {},
   "outputs": [
    {
     "data": {
      "text/plain": [
       "Ellipsis"
      ]
     },
     "execution_count": 54,
     "metadata": {},
     "output_type": "execute_result"
    }
   ],
   "source": [
    "p10"
   ]
  },
  {
   "cell_type": "code",
   "execution_count": 57,
   "metadata": {},
   "outputs": [],
   "source": [
    "# these row counts should be the same.\n",
    "(len(p10), len(q10)) if p10 is not ... else None"
   ]
  },
  {
   "cell_type": "markdown",
   "metadata": {},
   "source": [
    "### Problem 11\n",
    "\n",
    "Set `p11` to be the name of the penguin species in the Palmer Penguins data set with the longest average female bill length.\n",
    "You may have to research how to interpret the column names."
   ]
  },
  {
   "cell_type": "markdown",
   "metadata": {},
   "source": [
    "Hint: there are three operations here - averaging bill length by the species, filtering to females, and picking the species with the longest average bill length.\n",
    "The order that you do these operations may affect how you perform them."
   ]
  },
  {
   "cell_type": "code",
   "execution_count": null,
   "metadata": {},
   "outputs": [],
   "source": [
    "# YOUR CHANGES HERE\n",
    "\n",
    "p11 = ..."
   ]
  },
  {
   "cell_type": "code",
   "execution_count": null,
   "metadata": {},
   "outputs": [],
   "source": [
    "# what could you print earlier to spot check this answer?\n",
    "p11"
   ]
  },
  {
   "cell_type": "markdown",
   "metadata": {},
   "source": [
    "### Problem 12\n",
    "\n",
    "Using the Palmer Penguins data set, set `p12` to be the species with the most samples with body mass below 2.9 kilograms."
   ]
  },
  {
   "cell_type": "code",
   "execution_count": null,
   "metadata": {},
   "outputs": [],
   "source": [
    "# YOUR CHANGES HERE\n",
    "\n",
    "p12 = ..."
   ]
  },
  {
   "cell_type": "code",
   "execution_count": null,
   "metadata": {},
   "outputs": [],
   "source": [
    "# what stats could you use to check this answer?\n",
    "\n",
    "p12"
   ]
  },
  {
   "cell_type": "markdown",
   "metadata": {},
   "source": [
    "### Problem 13\n",
    "\n",
    "Set `p13` to be a pandas Series with a row for each penguin appearing multiple times in the data set where the series value is the number of rows for that penguin."
   ]
  },
  {
   "cell_type": "markdown",
   "metadata": {},
   "source": [
    "Hint: start with counting the number of rows for each individual penguin, and then filter the list."
   ]
  },
  {
   "cell_type": "code",
   "execution_count": null,
   "metadata": {},
   "outputs": [],
   "source": [
    "# YOUR CHANGES HERE\n",
    "\n",
    "p13 = ..."
   ]
  },
  {
   "cell_type": "code",
   "execution_count": null,
   "metadata": {},
   "outputs": [],
   "source": [
    "# confirm that each row corresponds to an individual penguin,\n",
    "# and the row counts are more than one.\n",
    "p13"
   ]
  },
  {
   "cell_type": "markdown",
   "metadata": {},
   "source": [
    "### Problem 14\n",
    "\n",
    "Set `p14` to be a copy of `q14` reorganized with recipe rows and ingredient columns and summing the cups column for the values in `p14`.\n",
    "Any values not covered by `q14` should default to zero in `p14`.\n"
   ]
  },
  {
   "cell_type": "markdown",
   "metadata": {},
   "source": [
    "Hint: use a function from https://pandas.pydata.org/docs/user_guide/reshaping.html"
   ]
  },
  {
   "cell_type": "code",
   "execution_count": null,
   "metadata": {},
   "outputs": [],
   "source": [
    "# DO NOT CHANGE\n",
    "\n",
    "q14 = pd.DataFrame(data={\"recipe\": [\"cake\", \"cake\", \"cake\", \"cake\", \"candy\", \"candy\"],\n",
    "                         \"ingredient\": [\"flour\", \"water\", \"sugar\", \"butter\", \"sugar\", \"water\"],\n",
    "                         \"cups\": [2, 0.5, 1, 0.25, 2, 1]})\n",
    "q14"
   ]
  },
  {
   "cell_type": "code",
   "execution_count": null,
   "metadata": {},
   "outputs": [],
   "source": [
    "# YOUR CHANGES HERE\n",
    "\n",
    "p14 = ..."
   ]
  },
  {
   "cell_type": "markdown",
   "metadata": {},
   "source": [
    "`p14` should have structure like this, but the specific row and column orders do not matter.\n",
    "\n",
    "| | butter | flour | sugar | water |\n",
    "|---|---|---|---|---|\n",
    "| cake | | | | |\n",
    "| candy | | | | |"
   ]
  },
  {
   "cell_type": "code",
   "execution_count": null,
   "metadata": {},
   "outputs": [],
   "source": [
    "p14"
   ]
  },
  {
   "cell_type": "markdown",
   "metadata": {},
   "source": [
    "### Problem 15\n",
    "\n",
    "Write a function `p15` that takes in three filenames as input; a file name of device orders, a file name for device components, and a file name of component costs; and returns the total cost.\n",
    "\n",
    "* The orders file contains two columns -- `device` and `device_quantity`.\n",
    "* The components file contains three columns -- `device`, `component`, and `component_quantity`.\n",
    "* The costs file contains two columns -- `component` and `component_cost`."
   ]
  },
  {
   "cell_type": "code",
   "execution_count": null,
   "metadata": {},
   "outputs": [],
   "source": [
    "# YOUR CHANGES HERE\n",
    "\n",
    "def p15(orders_filename, components_filename, costs_filename):\n",
    "    ..."
   ]
  },
  {
   "cell_type": "code",
   "execution_count": null,
   "metadata": {},
   "outputs": [],
   "source": [
    "# this should return 767.59\n",
    "p15(\"orders_15.tsv\", \"components_15.tsv\", \"costs_15.tsv\")"
   ]
  },
  {
   "cell_type": "markdown",
   "metadata": {},
   "source": [
    "### Problem 16\n",
    "\n",
    "Write a function `p16` that takes in a list of filenames, reads all of them, and returns all of their rows in a single data frame in the same order as the input files and the order they were specified.\n",
    "You may assume that all of the files have TSV format and the same columns."
   ]
  },
  {
   "cell_type": "markdown",
   "metadata": {},
   "source": [
    "Hint: you've seen a simpler version of this behavior loading penguin data."
   ]
  },
  {
   "cell_type": "code",
   "execution_count": null,
   "metadata": {},
   "outputs": [],
   "source": [
    "# YOUR CHANGES HERE\n",
    "\n",
    "def p16(filenames):\n",
    "    ..."
   ]
  },
  {
   "cell_type": "code",
   "execution_count": null,
   "metadata": {},
   "outputs": [],
   "source": [
    "# the resulting data frame should have one column alpha and values 1-9 in order.\n",
    "p16([\"f16a.tsv\", \"f16b.tsv\", \"f16c.tsv\"])"
   ]
  },
  {
   "cell_type": "markdown",
   "metadata": {},
   "source": [
    "### Problem 17\n",
    "\n",
    "Write a function `p17` that takes in a filename, loads the file, appends a new column \"source\" containing the name of the file, and returns the resulting data frame.\n",
    "You may assume that the file has TSV format."
   ]
  },
  {
   "cell_type": "code",
   "execution_count": null,
   "metadata": {},
   "outputs": [],
   "source": [
    "# YOUR CHANGES HERE\n",
    "\n",
    "def p17(filename):\n",
    "    ..."
   ]
  },
  {
   "cell_type": "code",
   "execution_count": null,
   "metadata": {},
   "outputs": [],
   "source": [
    "p17(\"f17a.tsv\")"
   ]
  },
  {
   "cell_type": "markdown",
   "metadata": {},
   "source": [
    "### Problem 18\n",
    "\n",
    "Write a function `p18` that takes in three filenames, and joins them together one a time starting from the first file.\n",
    "The first column of the second and third files should be used to join to the previous result.\n",
    "If there is missing data in the joined files, then the available data should be kept and N/A values should be used for the columns of the later files.\n",
    "\n",
    "That is, the data in the first file should be joined to the second file using the first column of the second file.\n",
    "Then that joined data should be joined again to the third file using the first column of the third file.\n",
    "Return the data frame from the final join."
   ]
  },
  {
   "cell_type": "code",
   "execution_count": null,
   "metadata": {},
   "outputs": [],
   "source": [
    "# YOUR CHANGES HERE\n",
    "\n",
    "def p18(file_1_name, file_2_name, file_3_name):\n",
    "    ..."
   ]
  },
  {
   "cell_type": "code",
   "execution_count": null,
   "metadata": {},
   "outputs": [],
   "source": [
    "# reuse p15 test data - should have no missing data\n",
    "p18(\"orders_15.tsv\", \"components_15.tsv\", \"costs_15.tsv\")"
   ]
  },
  {
   "cell_type": "markdown",
   "metadata": {},
   "source": [
    "### Problem 19\n",
    "\n",
    "Set `p19` to be the a data frame with one row containing the penguin species and sex with the longest average bill length.\n",
    "The column names of should be \"Species\", \"Sex\", and the name of the bill length column."
   ]
  },
  {
   "cell_type": "markdown",
   "metadata": {},
   "source": [
    "Hint: the groupby method of data frames has an option controlling whether the grouped columns become the index or stay as normal columns. After you have grouped the data, consider your options to sort the data, and then think about how to take the longest (max) value."
   ]
  },
  {
   "cell_type": "code",
   "execution_count": null,
   "metadata": {},
   "outputs": [],
   "source": [
    "# YOUR CHANGES HERE\n",
    "\n",
    "p19 = ..."
   ]
  },
  {
   "cell_type": "code",
   "execution_count": null,
   "metadata": {},
   "outputs": [],
   "source": [
    "# this should just have one row.\n",
    "# is there an intermediate result that you could print earlier to spot check this answer?\n",
    "\n",
    "p19"
   ]
  },
  {
   "cell_type": "markdown",
   "metadata": {},
   "source": [
    "### Problem 20\n",
    "\n",
    "Write a function `p20` that takes in a filename for components of a single device, a list of filenames where each file has a different set of device costs, and returns a data frame of costs by filename.\n",
    "The output should have two columns, \"filename\" and \"cost\"."
   ]
  },
  {
   "cell_type": "markdown",
   "metadata": {},
   "source": [
    "Hint: you have already done similar analysis for multiple devices and designs. The main difference here is that the cost data is spread out across multiple files, and you need to report analysis results per file. How should you load the cost data while keeping it associated to the right files?"
   ]
  },
  {
   "cell_type": "code",
   "execution_count": null,
   "metadata": {},
   "outputs": [],
   "source": [
    "# YOUR CHANGES HERE\n",
    "\n",
    "def p20(components_filename, cost_filenames):\n",
    "    ..."
   ]
  },
  {
   "cell_type": "code",
   "execution_count": null,
   "metadata": {},
   "outputs": [],
   "source": [
    "# this should return a data frame with one row with cost 21.00\n",
    "\n",
    "p20(\"robot_cat_20.tsv\", [\"supplier_a_20.tsv\"])"
   ]
  },
  {
   "cell_type": "code",
   "execution_count": null,
   "metadata": {},
   "outputs": [],
   "source": [
    "# this should return a data frame with two rows.\n",
    "# the cost for supplier_a_20 should be 21.00.\n",
    "# the cost for supplier_b_20 should be 34.50.\n",
    "\n",
    "p20(\"robot_cat_20.tsv\", [\"supplier_a_20.tsv\", \"supplier_b_20.tsv\"])"
   ]
  }
 ],
 "metadata": {
  "kernelspec": {
   "display_name": "base",
   "language": "python",
   "name": "python3"
  },
  "language_info": {
   "codemirror_mode": {
    "name": "ipython",
    "version": 3
   },
   "file_extension": ".py",
   "mimetype": "text/x-python",
   "name": "python",
   "nbconvert_exporter": "python",
   "pygments_lexer": "ipython3",
   "version": "3.12.7"
  }
 },
 "nbformat": 4,
 "nbformat_minor": 2
}
